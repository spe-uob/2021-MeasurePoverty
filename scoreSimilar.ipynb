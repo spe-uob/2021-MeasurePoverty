{
 "cells": [
  {
   "cell_type": "code",
   "execution_count": 1,
   "id": "82394d05",
   "metadata": {},
   "outputs": [],
   "source": [
    "#array of questions for household, 2009 edition\n",
    "str1 = \"Can your whole household afford to go for a week's annual holiday, away from home?\"\n",
    "str2 = \"Can your household afford an unexpected required expense (amount to be filled) and pay through its own resources?\"\n",
    "str3 = \"Does your household have a telephone (fixed landline or mobile)?\"\n",
    "str4 = \"Does your household have a colour TV? If you do not have a colour TV? \"\n",
    "str5 = \"Does your household have a computer?\"\n",
    "str6 = \"Does the household have a washing machine?\"\n",
    "str7 = \"Does your household have a car/van for private use?\"\n",
    "str8 = \"Do you have any of the follow problems with your dwelling/accommodation? A leaking roof, damp walls/floors/foundation, rot in window frames or floor.\"\n",
    "str9 = \"Can your household afford to keep its home adequately warm?\"\n",
    "\n",
    "array1 = [str1, str2, str3, str4, str5, str6, str7, str8, str9]\n",
    "#print(array1)"
   ]
  },
  {
   "cell_type": "code",
   "execution_count": 2,
   "id": "fd175a72",
   "metadata": {},
   "outputs": [
    {
     "name": "stdout",
     "output_type": "stream",
     "text": [
      "36\n"
     ]
    }
   ],
   "source": [
    "#individual questions, 2009 edition\n",
    "#item 4-5 In your neighbourhood, how frequently do you encounter the following problems?\n",
    "str10 = \"Litter lying around?\"\n",
    "str11 = \" Damaged public amenities (bus stops, lamp posts, pavements, etc.)?\"\n",
    " #item 6-7 (Access to local public transport and to postal/banking services) How do you describe the access of your household to the following services? (in terms of physical and technical access, distance and opening hours) \n",
    "str12 = \"Local public transport?\"\n",
    "str13 = \"Postal or banking services?\"\n",
    "#item 8-9 Could you tell me if your household…\n",
    "str14 = \"Replace worn-out furniture?\"\n",
    "str15 = \"Has (access to) an internet connection?\"\n",
    "#item 10-15 Could you tell me if you have or do the following? \n",
    "str16 = \"Have a mobile phone?  Replace worn-out clothes by some new (not second hand) ones?\" \n",
    "str17 = \"Have two pairs of properly fitting shoes (including a pair of all-weather shoes)?\"\n",
    "str18 = \"Get together with friends/family (relatives) for a drink/meal at least once a month?\"\n",
    "str19 = \"Regularly participate in a leisure activity such as sport, cinema, concert etc?\"\n",
    "str20 = \"Spend a small amount of money each week on yourself (without having to consult anyone)?\"\n",
    "#item 16\n",
    "str21 = \"About how many times have you been to a GP or a specialist, excluding dentish and opthalmologist, during the last 12 months?\"\n",
    "#item 17-27 Can you tell me whether all the children (under 16 years old) above 1 year in your household have or do the following: \n",
    "str22 = \"Have some new (not second hand) clothes?\"\n",
    "str23 = \"Have two pairs of properly fitting shoes (including a pair of all-weather shoes)?\"\n",
    "str24 = \"Have fresh fruits and vegetables once a day?\"\n",
    "str25 = \"Have three meals a day?\"\n",
    "str26 = \"Have a meal with meat, chicken or fish(or vegetarian equivalent) at least once a day?\"\n",
    "str27 = \"Have books at home suitable for their age?\"\n",
    "str28 = \"Have outdoor leisure equipmentj (bicycle, rollerskates, etc)?\"\n",
    "str29 = \"Have indoor games (educational baby toys, building blocks, board games, computer games, etc.)? \"\n",
    "str30 = \"Participate in a regular leisure activity (swimming, playing an instrument, youth organisations, etc.)?\"\n",
    "str31 = \"Have celebrations on special occasions (birthdays, name days, religious events)?\"\n",
    "str32 = \"Invite friends round for playing and eating from time to time?\"\n",
    "str33 = \"Go on holiday away from home at least 1 week per year?\"\n",
    "#item 28-29 all children attending school\n",
    "str34 = \"Participate in school trips and school events that cost money?\"\n",
    "str35 = \"Have a suitable place to study or do homework?\"\n",
    "#item 30 all children in your household\n",
    "str36 = \"An outdoor space in the neighbourhood where they can play safely?\"\n",
    "#optional questions\n",
    "str37 = \"really needed to consult a GP or specialist but did not?\"\n",
    "str38 = \"really needed to consult a dentist but did not?\"\n",
    "\n",
    "array2 = [str10, str13, str14, str15, str16, str17, str18, str19, str20, str21, str22, str23, str24, str25, str26, str27, str28, str29, str30, str31, str32, str33, str34, str35, str36, str37, str38]\n",
    "#print(array2)\n",
    "array3 = array1 + array2\n",
    "print (len(array3))"
   ]
  },
  {
   "cell_type": "code",
   "execution_count": 3,
   "id": "a1dd505e",
   "metadata": {},
   "outputs": [],
   "source": [
    "from difflib import SequenceMatcher\n",
    "\n",
    "def similar(a, b):\n",
    "    return SequenceMatcher(None, a, b).ratio()\n",
    "\n",
    "#for one sentence, find the highest score for it\n",
    "def similar_sentence (question,target_list):\n",
    "    string=question\n",
    "    array=target_list\n",
    "    return max(array, key=lambda str: similar(string, str))\n"
   ]
  },
  {
   "cell_type": "code",
   "execution_count": 7,
   "id": "0aabda58",
   "metadata": {},
   "outputs": [
    {
     "data": {
      "text/plain": [
       "'Does the household have a washing machine?'"
      ]
     },
     "execution_count": 7,
     "metadata": {},
     "output_type": "execute_result"
    }
   ],
   "source": [
    "\n",
    "similar_sentence(\"Does the household a machine?\",array3)    "
   ]
  },
  {
   "cell_type": "code",
   "execution_count": null,
   "id": "36b192d5",
   "metadata": {},
   "outputs": [],
   "source": []
  }
 ],
 "metadata": {
  "kernelspec": {
   "display_name": "Python 3",
   "language": "python",
   "name": "python3"
  },
  "language_info": {
   "codemirror_mode": {
    "name": "ipython",
    "version": 3
   },
   "file_extension": ".py",
   "mimetype": "text/x-python",
   "name": "python",
   "nbconvert_exporter": "python",
   "pygments_lexer": "ipython3",
   "version": "3.9.7"
  }
 },
 "nbformat": 4,
 "nbformat_minor": 5
}
