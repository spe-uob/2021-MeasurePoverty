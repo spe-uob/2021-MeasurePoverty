{
 "cells": [
  {
   "cell_type": "code",
   "execution_count": 72,
   "id": "27672d19",
   "metadata": {},
   "outputs": [],
   "source": [
    "import csv\n",
    "import pandas as pd\n",
    "from nltk.translate.bleu_score import sentence_bleu\n",
    "import numpy as np"
   ]
  },
  {
   "cell_type": "code",
   "execution_count": 73,
   "id": "ca52d045",
   "metadata": {},
   "outputs": [
    {
     "name": "stdout",
     "output_type": "stream",
     "text": [
      "[['This is the reference sentence'], ['This is the reference sentence'], ['This is not the reference sentence'], ['This is the reference sentence'], ['This is the reference sentence'], ['This is the reference sentence']]\n"
     ]
    }
   ],
   "source": [
    "with open(r\"C:\\Users\\User\\Desktop\\Software Engineering\\New folder\\New folder\\candidate.csv\") as file_name:\n",
    "    file_read = csv.reader(file_name)\n",
    "    array = list(file_read)\n",
    "    print(array)"
   ]
  },
  {
   "cell_type": "code",
   "execution_count": 74,
   "id": "5b077a97",
   "metadata": {},
   "outputs": [
    {
     "name": "stdout",
     "output_type": "stream",
     "text": [
      "                   CandidateSentences\n",
      "0      This is the reference sentence\n",
      "1      This is the reference sentence\n",
      "2  This is not the reference sentence\n",
      "3      This is the reference sentence\n",
      "4      This is the reference sentence\n",
      "5      This is the reference sentence\n"
     ]
    }
   ],
   "source": [
    "column_names = [\"CandidateSentences\"]\n",
    "df = pd.read_csv(r'C:\\Users\\User\\Desktop\\Software Engineering\\New folder\\New folder\\candidate.csv', names=column_names)#read the csv file (put 'r' before the path string to address any special characters in the path, such as '\\'). Don't forget to put the file name at the end of the path + \".csv\"\n",
    "print(df)"
   ]
  },
  {
   "cell_type": "code",
   "execution_count": 75,
   "id": "6081d7bf",
   "metadata": {},
   "outputs": [
    {
     "name": "stdout",
     "output_type": "stream",
     "text": [
      "this is the reference sentence\n"
     ]
    }
   ],
   "source": [
    "kf = pd.read_csv (r'C:\\Users\\User\\Desktop\\Software Engineering\\New folder\\New folder\\reference.csv')\n",
    "print(*kf)"
   ]
  },
  {
   "cell_type": "code",
   "execution_count": 78,
   "id": "3cbb6e14",
   "metadata": {},
   "outputs": [
    {
     "name": "stdout",
     "output_type": "stream",
     "text": [
      "0.9647055099910443\n",
      "0.9647055099910443\n",
      "0.8224766322998197\n",
      "0.9647055099910443\n",
      "0.9647055099910443\n",
      "0.9647055099910443\n"
     ]
    }
   ],
   "source": [
    "for x in array:\n",
    "    score = sentence_bleu(x,*kf, weights=(0.3, 0.2, 0.2, 0.2, 0.1))\n",
    "    print(score)"
   ]
  },
  {
   "cell_type": "code",
   "execution_count": null,
   "id": "9966c5cb",
   "metadata": {},
   "outputs": [],
   "source": []
  },
  {
   "cell_type": "code",
   "execution_count": null,
   "id": "9a7450a6",
   "metadata": {},
   "outputs": [],
   "source": []
  }
 ],
 "metadata": {
  "kernelspec": {
   "display_name": "Python 3",
   "language": "python",
   "name": "python3"
  },
  "language_info": {
   "codemirror_mode": {
    "name": "ipython",
    "version": 3
   },
   "file_extension": ".py",
   "mimetype": "text/x-python",
   "name": "python",
   "nbconvert_exporter": "python",
   "pygments_lexer": "ipython3",
   "version": "3.8.8"
  }
 },
 "nbformat": 4,
 "nbformat_minor": 5
}
