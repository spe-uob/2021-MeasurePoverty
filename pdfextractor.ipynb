{
 "cells": [
  {
   "cell_type": "code",
   "execution_count": 16,
   "metadata": {},
   "outputs": [
    {
     "name": "stdout",
     "output_type": "stream",
     "text": [
      "['Toute votre famille peut-elle se permettre de partir une semaine en vacances annuelles, loin de chez vous\\xa0?', \"Votre ménage peut-il se permettre un repas avec de la viande, du poulet, du poisson (ou l'équivalent végétarien)\\xa0?\", 'Votre ménage peut-il se permettre une dépense nécessaire imprévue (montant à combler) et payer sur ses propres ressources\\xa0?', \"Votre foyer dispose-t-il d'un téléphone (fixe ou mobile)\\xa0?\", 'Votre foyer possède-t-il une télévision couleur\\xa0?', 'Le ménage possède-t-il une machine à laver ?', 'Votre ménage possède-t-il une voiture/fourgonnette à usage privé\\xa0?', \"Avez-vous l'un des problèmes suivants avec votre logement/logement\\xa0?\", 'Votre ménage peut-il se permettre de chauffer suffisamment sa maison\\xa0?']\n",
      "[' La fiche-adresse a été créée par erreur  Si RESESSAIS = 1 (contact), aller à RESCONTA  Si RESESSAIS = 2 (présence), aller à NONCONTA  Si RESESSAIS = 3 (absence) , aller à ABSENCE  Si RESESSAIS = 4 ((non traitée), aller à FANONTRAI  Si RESESSAIS = 5 (erreur), aller à FAERREUR  Si RESESSAIS = 5,  Y2 (O)  FAERREUR  Raison du non traitement de la fiche-adresse  Pourquoi la fiche-adresse a-t-elle été créée par erreur ?', '     (Réponse en clair)………………………………  Aller à VALIDF  Si RESESSAIS = 4 (non traitée),  Y3 (F)  FANONTRAI  Raison du non traitement de la fiche-adresse  Y4 (O)  AUTFANON   Raison du non traitement de la fiche adresse  (Y3) Pourquoi la fiche-adresse n’a-t-elle pas pu être traitée?', 'Inhabituelle et incertaine jusqu’à la fin de la collecte  NSP  Aller à CATLOGAYP  Si RESESSAIS = 2 (présence),  Y6 (F)  NONCONTA  Raison du non contact  Y7 (O)  AUTNONCO  Autre raison du non contact  (Y6) Pourquoi n’avez vous contacté personne ?']\n"
     ]
    },
    {
     "data": {
      "text/plain": [
       "[['The address sheet was created by mistake If RESESSAIS = 1 (contact), go to RESESSAIS If RESESSAIS = 2 (presence), go to NONCONTA If RESESSAIS = 3 (absence), go to ABSENCE If RESESSAIS = 4 ((not processed ), go to FANONTRAI If RESESSAIS = 5 (error), go to FAERREUR If RESESSAIS = 5, Y2 (O) FAERREUR Reason for not processing the address sheet Why was the address sheet created by mistake?',\n",
       "  '(Answer in clear)……………………………… Go to VALIDF If RESESSAIS = 4 (not processed), Y3 (F) FANONTRAI Reason for not processing the address sheet Y4 (O) AUTFANON Reason for address card not processed (Y3) Why could the address card not be processed?',\n",
       "  'Unusual and uncertain until the end of data collection DK Go to CATLOGAYP If RESESSAIS = 2 (presence), Y6 (F) NONCONTA Reason for non-contact Y7 (O) AUTNONCO Other reason for non-contact (Y6) Why did you not contacted anyone?']]"
      ]
     },
     "execution_count": 16,
     "metadata": {},
     "output_type": "execute_result"
    }
   ],
   "source": [
    "import pdfplumber\n",
    "import pandas as pd\n",
    "from deep_translator import GoogleTranslator\n",
    "import PyPDF2\n",
    "import re\n",
    "import operator\n",
    "    \n",
    "pdf = pdfplumber.open(\"france.pdf\")\n",
    "\n",
    "def keywords():\n",
    "    questions_to_keywords={\n",
    "    \"annual holiday\":\"Can your whole household afford to go for a week’s annual holiday, away from home?\",\n",
    "    \"meat, chicken, fish\":\"Can your household afford a meal with meat, chicken, fish(or vegetarian equivalent)?\",\n",
    "    \"unexpected required expense\": \"Can your household afford an unexpected required expense(amount to be filled) and pay through its own resources?\",\n",
    "    \"telephone(fixed landline or mobile\":\"Does your household have a telephone(fixed landline or mobile)?\",\n",
    "    \"colour television\":\"Does your household have a color TV?\",\n",
    "    \"washing machine\":\"Does the household have a washing machine? \",\n",
    "    \"car/van\":\"Does your household have a car/van for private use? \",\n",
    "    \"dwelling/accommodation\":\"Do you have any of the following problems with your dwelling/accommodation? \",\n",
    "    \"home adequately warm\":\"Can your household afford to keep its home adequately warm?  \"\n",
    "} \n",
    "    \n",
    "    translated_keywords = []\n",
    "    for value in questions_to_keywords.values():\n",
    "        translated = GoogleTranslator(source='en', target='french').translate(value)\n",
    "        translated_keywords.append(translated)\n",
    "    print(translated_keywords)\n",
    "\n",
    "keywords()\n",
    "pages = set()\n",
    "'''\n",
    "for key in keywords():\n",
    "    pdf= PyPDF2.PdfFileReader(r\"france.pdf\")\n",
    "    String = key\n",
    "    for i in range(0, pdf.getNumPages()):\n",
    "        PageObj = pdf.getPage(i)\n",
    "        Text = PageObj.extractText()\n",
    "        if re.search(\"question\",Text):\n",
    "            print(\"here\")\n",
    "            pages.add(String)\n",
    "            pages.add(i)\n",
    "print(pages)\n",
    "\n",
    "\n",
    "'''\n",
    "\n",
    "def translator(lines):\n",
    "    translated_array =[]\n",
    "    for i in lines:\n",
    "        to_translate = i\n",
    "        translated = GoogleTranslator(source='auto', target='en').translate(i)\n",
    "        translated_array.append(translated)\n",
    "    return translated_array\n",
    "\n",
    "\n",
    "\n",
    "def clean(text):\n",
    "    # removing new line characters\n",
    "    text = re.sub('\\n ','',str(text))\n",
    "    text = re.sub('\\n',' ',str(text))\n",
    "    \n",
    "    return text\n",
    "\n",
    "\n",
    "\n",
    "\n",
    "def translate_document(pages):\n",
    "    \n",
    "    pdf1 = pdfplumber.open(\"france.pdf\")\n",
    "    translated_array = []\n",
    "    #pages = list(pages)\n",
    "    # writing page 161 will translate page 162\n",
    "    pages = [6]\n",
    "    for number in pages:\n",
    "        p1 = pdf1.pages[number]\n",
    "        im = p1.to_image()\n",
    "        text = p1.extract_text()\n",
    "        text = clean(text)\n",
    "        #text = re.split('[?]',text)  \n",
    "        text = re.findall('(?<=[\\?\\.\\!]\\s)[^\\?\\n\\.]+?\\?',text)\n",
    "        print(text)\n",
    "        clean_sent  = []\n",
    "        for sent in text:\n",
    "            clean_sent.append(sent) \n",
    "        translated_array.append(translator(clean_sent))\n",
    "    return translated_array\n",
    "\n",
    "translate_document(pages)"
   ]
  },
  {
   "cell_type": "code",
   "execution_count": 15,
   "metadata": {},
   "outputs": [
    {
     "data": {
      "text/plain": [
       "'\\ndef translate_document(pages):\\n    \\n    pdf1 = pdfplumber.open(\"france.pdf\")\\n    translated_array = []\\n    pages = pages\\n\\n    for number in pages:\\n        p1 = pdf1.pages[i]\\n        im = p1.to_image()\\n        text = p1.extract_text()\\n        lines = text.split(\"\\n\")\\n        newlines = []\\n        for x in lines:\\n            if x.strip():\\n                newlines.append(x) \\n        translated_array.append(translator(newlines))\\n    return translated_array\\ntranslate_document(pages)\\n\\n\\n'"
      ]
     },
     "execution_count": 15,
     "metadata": {},
     "output_type": "execute_result"
    }
   ],
   "source": [
    "  \n",
    "'''\n",
    "def translate_document(pages):\n",
    "    \n",
    "    pdf1 = pdfplumber.open(\"france.pdf\")\n",
    "    translated_array = []\n",
    "    pages = pages\n",
    "\n",
    "    for number in pages:\n",
    "        p1 = pdf1.pages[i]\n",
    "        im = p1.to_image()\n",
    "        text = p1.extract_text()\n",
    "        lines = text.split(\"\\n\")\n",
    "        newlines = []\n",
    "        for x in lines:\n",
    "            if x.strip():\n",
    "                newlines.append(x) \n",
    "        translated_array.append(translator(newlines))\n",
    "    return translated_array\n",
    "translate_document(pages)\n",
    "\n",
    "\n",
    "'''\n"
   ]
  },
  {
   "cell_type": "code",
   "execution_count": 4,
   "metadata": {},
   "outputs": [],
   "source": []
  },
  {
   "cell_type": "code",
   "execution_count": null,
   "metadata": {},
   "outputs": [],
   "source": []
  },
  {
   "cell_type": "code",
   "execution_count": null,
   "metadata": {},
   "outputs": [],
   "source": [
    "\n",
    "    "
   ]
  },
  {
   "cell_type": "code",
   "execution_count": null,
   "metadata": {},
   "outputs": [],
   "source": []
  },
  {
   "cell_type": "code",
   "execution_count": null,
   "metadata": {},
   "outputs": [],
   "source": []
  },
  {
   "cell_type": "code",
   "execution_count": null,
   "metadata": {},
   "outputs": [],
   "source": []
  },
  {
   "cell_type": "code",
   "execution_count": null,
   "metadata": {},
   "outputs": [],
   "source": []
  },
  {
   "cell_type": "code",
   "execution_count": null,
   "metadata": {},
   "outputs": [],
   "source": [
    "\n"
   ]
  },
  {
   "cell_type": "code",
   "execution_count": null,
   "metadata": {},
   "outputs": [],
   "source": []
  },
  {
   "cell_type": "code",
   "execution_count": null,
   "metadata": {},
   "outputs": [],
   "source": []
  },
  {
   "cell_type": "code",
   "execution_count": null,
   "metadata": {},
   "outputs": [],
   "source": []
  },
  {
   "cell_type": "code",
   "execution_count": null,
   "metadata": {},
   "outputs": [],
   "source": []
  }
 ],
 "metadata": {
  "kernelspec": {
   "display_name": "Python 3",
   "language": "python",
   "name": "python3"
  },
  "language_info": {
   "codemirror_mode": {
    "name": "ipython",
    "version": 3
   },
   "file_extension": ".py",
   "mimetype": "text/x-python",
   "name": "python",
   "nbconvert_exporter": "python",
   "pygments_lexer": "ipython3",
   "version": "3.8.8"
  }
 },
 "nbformat": 4,
 "nbformat_minor": 4
}
