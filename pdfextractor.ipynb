{
 "cells": [
  {
   "cell_type": "code",
   "execution_count": 2,
   "metadata": {},
   "outputs": [
    {
     "name": "stdout",
     "output_type": "stream",
     "text": [
      " \n",
      "Questionnaire TCM PANEL  \n",
      " \n",
      "1.  FA : Fiche-adresse \n",
      " \n",
      " \n",
      "Bloc X.  Repérage du logement \n",
      " \n",
      " \n",
      "  RGES  Région de gestion \n",
      "  NUMFA  Numéro de fiche-adresse \n",
      "  SSECH  Code échantillon \n",
      " \n",
      "  LE   Eclatement de logement \n",
      "(cid:120)(cid:3) 0.  au démarrage (logement issu de la base) \n",
      "(cid:120)(cid:3) 1, 2 etc. pour les logements éclatés \n",
      " \n",
      "  BS  Numéro de ménage dans le logement \n",
      " \n",
      "BS = 0 au démarrage puis si l’ensemble des habitants du logement compose le ménage enquêté.  \n",
      "Sinon 1, 2 etc. \n",
      " \n",
      "  EC  Eclatement de ménage \n",
      "(cid:120)(cid:3) 0.  au démarrage (ménage d’origine) \n",
      "(cid:120)(cid:3) 1, 2 etc. pour les ménages éclatés \n",
      " \n",
      "  CLE  Clé de contrôle \n",
      " \n",
      "  NUMENQ  Numéro de l’enquêteur \n",
      "  DEP   Département \n",
      "  NCOM  Nom de la commune \n",
      " \n",
      "  COMMENTAIRE  Commentaire \n",
      "Nous vous rappelons que cette zone ne doit pas comporter de données nominatives (nom de l’enquêté, adresse \n",
      "précise…) \n",
      "Si DEMEC = 1 (déménagement) ou 2 (ménage éclaté), réinitialiser COMMENTA et ADRPROCHE à valeur manquante. \n",
      " \n",
      "Si DEMEC = 1, 2 ou 3  :  aller à AFFICHADR \n",
      "Si DEMEC = valeur manquante,  \n",
      " \n",
      "  MOUVEMENT  Mouvement du ménage \n",
      "Le ménage réside-t-il toujours à l’adresse indiquée sur la FA ? \n",
      "(cid:120)(cid:3) 1.  Le ménage réside toujours à l’adresse indiquée (ou rien ne laisse penser le contraire) \n",
      "(cid:120)(cid:3) 2.  Le ménage a changé d’adresse \n",
      "(cid:120)(cid:3) 3.  Les membres du ménage sont décédés \n",
      "(cid:120)(cid:3) 4.  Impossible d’accéder à l’adresse \n",
      "(cid:120)(cid:3) 5.  Impossible de localiser l’adresse \n",
      "(cid:120)(cid:3) 6. Adresse inexistante, adresse située dans une zone non résidentielle, adresse inoccupée  \n",
      " \n",
      "Si MOUVEMENT = 1, affecter V1NCOM et V1CODCOMMU (ou V1DEP  et V1COM si  en  vague 2) à  NCOM et \n",
      "CODCOMMU et aller TEMPDEM \n",
      "Si MOUVEMENT = 2, aller à CHANGADR \n",
      "Si  MOUVEMENT = 3,  CONTROLE : «  Tous les membres Panel du ménage sont-ils décédés ? Si oui, confirmer le \n",
      "contrôle, si non corriger » \n",
      "aller à VALIDF \n",
      "Si MOUVEMENT = 4, 5 ou 6, aller à VALIDF \n",
      "TcmLSrcv2009.doc  2\n",
      "[' ', 'Questionnaire TCM PANEL  ', ' ', '1.  FA : Fiche-adresse ', ' ', ' ', 'Bloc X.  Repérage du logement ', ' ', ' ', '  RGES  Région de gestion ', '  NUMFA  Numéro de fiche-adresse ', '  SSECH  Code échantillon ', ' ', '  LE   Eclatement de logement ', '(cid:120)(cid:3) 0.  au démarrage (logement issu de la base) ', '(cid:120)(cid:3) 1, 2 etc. pour les logements éclatés ', ' ', '  BS  Numéro de ménage dans le logement ', ' ', 'BS = 0 au démarrage puis si l’ensemble des habitants du logement compose le ménage enquêté.  ', 'Sinon 1, 2 etc. ', ' ', '  EC  Eclatement de ménage ', '(cid:120)(cid:3) 0.  au démarrage (ménage d’origine) ', '(cid:120)(cid:3) 1, 2 etc. pour les ménages éclatés ', ' ', '  CLE  Clé de contrôle ', ' ', '  NUMENQ  Numéro de l’enquêteur ', '  DEP   Département ', '  NCOM  Nom de la commune ', ' ', '  COMMENTAIRE  Commentaire ', 'Nous vous rappelons que cette zone ne doit pas comporter de données nominatives (nom de l’enquêté, adresse ', 'précise…) ', 'Si DEMEC = 1 (déménagement) ou 2 (ménage éclaté), réinitialiser COMMENTA et ADRPROCHE à valeur manquante. ', ' ', 'Si DEMEC = 1, 2 ou 3  :  aller à AFFICHADR ', 'Si DEMEC = valeur manquante,  ', ' ', '  MOUVEMENT  Mouvement du ménage ', 'Le ménage réside-t-il toujours à l’adresse indiquée sur la FA ? ', '(cid:120)(cid:3) 1.  Le ménage réside toujours à l’adresse indiquée (ou rien ne laisse penser le contraire) ', '(cid:120)(cid:3) 2.  Le ménage a changé d’adresse ', '(cid:120)(cid:3) 3.  Les membres du ménage sont décédés ', '(cid:120)(cid:3) 4.  Impossible d’accéder à l’adresse ', '(cid:120)(cid:3) 5.  Impossible de localiser l’adresse ', '(cid:120)(cid:3) 6. Adresse inexistante, adresse située dans une zone non résidentielle, adresse inoccupée  ', ' ', 'Si MOUVEMENT = 1, affecter V1NCOM et V1CODCOMMU (ou V1DEP  et V1COM si  en  vague 2) à  NCOM et ', 'CODCOMMU et aller TEMPDEM ', 'Si MOUVEMENT = 2, aller à CHANGADR ', 'Si  MOUVEMENT = 3,  CONTROLE : «  Tous les membres Panel du ménage sont-ils décédés ? Si oui, confirmer le ', 'contrôle, si non corriger » ', 'aller à VALIDF ', 'Si MOUVEMENT = 4, 5 ou 6, aller à VALIDF ', 'TcmLSrcv2009.doc  2']\n"
     ]
    }
   ],
   "source": [
    "import pdfplumber\n",
    "import pandas as pd\n",
    "from deep_translator import GoogleTranslator\n",
    "\n",
    "pdf = pdfplumber.open(\"france.pdf\")\n",
    "p1 = pdf.pages[1]\n",
    "im = p1.to_image()\n",
    "text = p1.extract_text()\n",
    "\n",
    "\n",
    "print(text)\n",
    "lines = text.split(\"\\n\")\n",
    "print(lines)"
   ]
  },
  {
   "cell_type": "code",
   "execution_count": 3,
   "metadata": {},
   "outputs": [
    {
     "name": "stdout",
     "output_type": "stream",
     "text": [
      "['Questionnaire TCM PANEL  ', '1.  FA : Fiche-adresse ', 'Bloc X.  Repérage du logement ', '  RGES  Région de gestion ', '  NUMFA  Numéro de fiche-adresse ', '  SSECH  Code échantillon ', '  LE   Eclatement de logement ', '(cid:120)(cid:3) 0.  au démarrage (logement issu de la base) ', '(cid:120)(cid:3) 1, 2 etc. pour les logements éclatés ', '  BS  Numéro de ménage dans le logement ', 'BS = 0 au démarrage puis si l’ensemble des habitants du logement compose le ménage enquêté.  ', 'Sinon 1, 2 etc. ', '  EC  Eclatement de ménage ', '(cid:120)(cid:3) 0.  au démarrage (ménage d’origine) ', '(cid:120)(cid:3) 1, 2 etc. pour les ménages éclatés ', '  CLE  Clé de contrôle ', '  NUMENQ  Numéro de l’enquêteur ', '  DEP   Département ', '  NCOM  Nom de la commune ', '  COMMENTAIRE  Commentaire ', 'Nous vous rappelons que cette zone ne doit pas comporter de données nominatives (nom de l’enquêté, adresse ', 'précise…) ', 'Si DEMEC = 1 (déménagement) ou 2 (ménage éclaté), réinitialiser COMMENTA et ADRPROCHE à valeur manquante. ', 'Si DEMEC = 1, 2 ou 3  :  aller à AFFICHADR ', 'Si DEMEC = valeur manquante,  ', '  MOUVEMENT  Mouvement du ménage ', 'Le ménage réside-t-il toujours à l’adresse indiquée sur la FA ? ', '(cid:120)(cid:3) 1.  Le ménage réside toujours à l’adresse indiquée (ou rien ne laisse penser le contraire) ', '(cid:120)(cid:3) 2.  Le ménage a changé d’adresse ', '(cid:120)(cid:3) 3.  Les membres du ménage sont décédés ', '(cid:120)(cid:3) 4.  Impossible d’accéder à l’adresse ', '(cid:120)(cid:3) 5.  Impossible de localiser l’adresse ', '(cid:120)(cid:3) 6. Adresse inexistante, adresse située dans une zone non résidentielle, adresse inoccupée  ', 'Si MOUVEMENT = 1, affecter V1NCOM et V1CODCOMMU (ou V1DEP  et V1COM si  en  vague 2) à  NCOM et ', 'CODCOMMU et aller TEMPDEM ', 'Si MOUVEMENT = 2, aller à CHANGADR ', 'Si  MOUVEMENT = 3,  CONTROLE : «  Tous les membres Panel du ménage sont-ils décédés ? Si oui, confirmer le ', 'contrôle, si non corriger » ', 'aller à VALIDF ', 'Si MOUVEMENT = 4, 5 ou 6, aller à VALIDF ', 'TcmLSrcv2009.doc  2']\n"
     ]
    }
   ],
   "source": [
    "\n",
    "newlines = []\n",
    "for i in lines:\n",
    "    if i.strip():\n",
    "        newlines.append(i)\n",
    "\n",
    "print(newlines)"
   ]
  },
  {
   "cell_type": "code",
   "execution_count": 4,
   "metadata": {},
   "outputs": [
    {
     "name": "stdout",
     "output_type": "stream",
     "text": [
      "Questionnaire TCM PANEL\n",
      "1. FA: Address card\n",
      "Block X. Housing identification\n",
      "RGES Management region\n",
      "NUMFA Address card number\n",
      "SSECH Sample Code\n",
      "THE Housing explosion\n",
      "(cid: 120) (cid: 3) 0. at startup (housing from the database)\n",
      "(cid: 120) (cid: 3) 1, 2 etc. for exploded housing\n",
      "BS Household number in the accommodation\n",
      "BS = 0 at start-up then if all the inhabitants of the dwelling make up the surveyed household.\n",
      "Otherwise 1, 2 etc.\n",
      "EC Household breakdown\n",
      "(cid: 120) (cid: 3) 0. at start-up (original household)\n",
      "(cid: 120) (cid: 3) 1, 2 etc. for split households\n",
      "KEY Control key\n",
      "NUMENQ Investigator's number\n",
      "DEP Department\n",
      "NCOM Name of the municipality\n",
      "COMMENT Commentary\n",
      "We remind you that this zone must not contain any personal data (name of the interviewee, address\n",
      "precise…)\n",
      "If DEMEC = 1 (move) or 2 (split household), reset COMMENTA and ADRPROCHE to the missing value.\n",
      "If DEMEC = 1, 2 or 3: go to AFFICHADR\n",
      "If DEMEC = missing value,\n",
      "MOVEMENT Household movement\n",
      "Does the household still reside at the address indicated on the FA?\n",
      "(cid: 120) (cid: 3) 1. The household still resides at the address indicated (or nothing suggests otherwise)\n",
      "(cid: 120) (cid: 3) 2. The household has changed address\n",
      "(cid: 120) (cid: 3) 3. Members of the household are deceased\n",
      "(cid: 120) (cid: 3) 4. Cannot access address\n",
      "(cid: 120) (cid: 3) 5. Unable to locate address\n",
      "(cid: 120) (cid: 3) 6. Non-existent address, address located in a non-residential area, unoccupied address\n",
      "If MOVEMENT = 1, assign V1NCOM and V1CODCOMMU (or V1DEP and V1COM if in wave 2) to NCOM and\n",
      "CODCOMMU and go TEMPDEM\n",
      "If MOVEMENT = 2, go to CHANGADR\n",
      "If MOVEMENT = 3, CHECK: \"Are all Panel members in the household deceased?\" If yes, confirm the\n",
      "check, if not correct \"\n",
      "go to VALIDF\n",
      "If MOVEMENT = 4, 5 or 6, go to VALIDF\n",
      "TcmLSrcv2009.doc  2\n"
     ]
    }
   ],
   "source": [
    "for i in newlines:\n",
    "    to_translate = i\n",
    "    translated = GoogleTranslator(source='auto', target='en').translate(i)\n",
    "    print(translated)"
   ]
  },
  {
   "cell_type": "code",
   "execution_count": null,
   "metadata": {},
   "outputs": [],
   "source": []
  },
  {
   "cell_type": "code",
   "execution_count": null,
   "metadata": {},
   "outputs": [],
   "source": []
  },
  {
   "cell_type": "code",
   "execution_count": null,
   "metadata": {},
   "outputs": [],
   "source": []
  },
  {
   "cell_type": "code",
   "execution_count": null,
   "metadata": {},
   "outputs": [],
   "source": []
  },
  {
   "cell_type": "code",
   "execution_count": null,
   "metadata": {},
   "outputs": [],
   "source": []
  },
  {
   "cell_type": "code",
   "execution_count": null,
   "metadata": {},
   "outputs": [],
   "source": [
    "\n"
   ]
  },
  {
   "cell_type": "code",
   "execution_count": null,
   "metadata": {},
   "outputs": [],
   "source": []
  },
  {
   "cell_type": "code",
   "execution_count": null,
   "metadata": {},
   "outputs": [],
   "source": []
  },
  {
   "cell_type": "code",
   "execution_count": null,
   "metadata": {},
   "outputs": [],
   "source": []
  },
  {
   "cell_type": "code",
   "execution_count": null,
   "metadata": {},
   "outputs": [],
   "source": []
  }
 ],
 "metadata": {
  "kernelspec": {
   "display_name": "Python 3",
   "language": "python",
   "name": "python3"
  },
  "language_info": {
   "codemirror_mode": {
    "name": "ipython",
    "version": 3
   },
   "file_extension": ".py",
   "mimetype": "text/x-python",
   "name": "python",
   "nbconvert_exporter": "python",
   "pygments_lexer": "ipython3",
   "version": "3.8.8"
  }
 },
 "nbformat": 4,
 "nbformat_minor": 4
}
