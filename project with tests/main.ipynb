{
 "cells": [
  {
   "cell_type": "markdown",
   "metadata": {},
   "source": [
    "Code for identifying pages that contain keywords, finding the questions, extracting and translating them\n",
    "\n"
   ]
  },
  {
   "cell_type": "code",
   "execution_count": 3,
   "metadata": {},
   "outputs": [
    {
     "name": "stdout",
     "output_type": "stream",
     "text": [
      "circleci test 1\n"
     ]
    }
   ],
   "source": [
    "def Add(a, b):\n",
    "        return a + b\n",
    "        \n",
    "def SayHello():\n",
    "        print(\"circleci test 1\")\n",
    "\n",
    "if __name__ == '__main__':\n",
    "        SayHello()"
   ]
  },
  {
   "cell_type": "code",
   "execution_count": null,
   "metadata": {},
   "outputs": [],
   "source": []
  }
 ],
 "metadata": {
  "interpreter": {
   "hash": "4819ae65f22c8564da7ac6d53d8c8b4f6980e51513dcfa410cef0e4dc24fe4bd"
  },
  "kernelspec": {
   "display_name": "Python 3.9.7 ('pdfextractor')",
   "language": "python",
   "name": "python3"
  },
  "language_info": {
   "codemirror_mode": {
    "name": "ipython",
    "version": 3
   },
   "file_extension": ".py",
   "mimetype": "text/x-python",
   "name": "python",
   "nbconvert_exporter": "python",
   "pygments_lexer": "ipython3",
   "version": "3.9.7"
  },
  "orig_nbformat": 4
 },
 "nbformat": 4,
 "nbformat_minor": 2
}
