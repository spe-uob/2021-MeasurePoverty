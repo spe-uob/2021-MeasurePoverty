{
 "cells": [
  {
   "cell_type": "code",
   "execution_count": 13,
   "metadata": {},
   "outputs": [
    {
     "name": "stdout",
     "output_type": "stream",
     "text": [
      "circleci test 1\n"
     ]
    }
   ],
   "source": [
    "%run main.ipynb"
   ]
  },
  {
   "cell_type": "code",
   "execution_count": 12,
   "metadata": {},
   "outputs": [
    {
     "name": "stdout",
     "output_type": "stream",
     "text": [
      "Add Function works correctly\n"
     ]
    }
   ],
   "source": [
    "# Import the Add function, and assert that it works correctly.\n",
    "\n",
    "\n",
    "def TestAdd():\n",
    "        assert Add(2,3) == 5\n",
    "        print(\"Add Function works correctly\")\n",
    "\n",
    "if __name__ == '__main__':\n",
    "        TestAdd()"
   ]
  },
  {
   "cell_type": "code",
   "execution_count": null,
   "metadata": {},
   "outputs": [],
   "source": []
  }
 ],
 "metadata": {
  "interpreter": {
   "hash": "4819ae65f22c8564da7ac6d53d8c8b4f6980e51513dcfa410cef0e4dc24fe4bd"
  },
  "kernelspec": {
   "display_name": "Python 3.9.7 ('pdfextractor')",
   "language": "python",
   "name": "python3"
  },
  "language_info": {
   "codemirror_mode": {
    "name": "ipython",
    "version": 3
   },
   "file_extension": ".py",
   "mimetype": "text/x-python",
   "name": "python",
   "nbconvert_exporter": "python",
   "pygments_lexer": "ipython3",
   "version": "3.9.7"
  },
  "orig_nbformat": 4
 },
 "nbformat": 4,
 "nbformat_minor": 2
}
