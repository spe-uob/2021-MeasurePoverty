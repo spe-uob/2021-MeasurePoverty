{
 "cells": [
  {
   "cell_type": "code",
   "execution_count": null,
   "metadata": {
    "scrolled": true
   },
   "outputs": [],
   "source": [
    "import pdfplumber\n",
    "import pandas as pd\n",
    "from deep_translator import GoogleTranslator\n",
    "\n",
    "pdf = pdfplumber.open(\"france.pdf\")\n",
    "\n",
    "for i in pdf.pages:\n",
    "    p1 = pdf.pages[1]\n",
    "    im = p1.to_image()\n",
    "    text = p1.extract_text()\n",
    "    print(text)\n",
    "    lines = text.split(\"\\n\")\n",
    "    print(lines)\n",
    "    newlines = []\n",
    "    for i in lines:\n",
    "        if i.strip():\n",
    "            newlines.append(i)\n",
    "\n",
    "    print(newlines)\n",
    "    \n",
    "    \n",
    "    \n",
    "    "
   ]
  }
 ],
 "metadata": {
  "kernelspec": {
   "display_name": "Python [conda env:pdfextractor]",
   "language": "python",
   "name": "conda-env-pdfextractor-py"
  },
  "language_info": {
   "codemirror_mode": {
    "name": "ipython",
    "version": 3
   },
   "file_extension": ".py",
   "mimetype": "text/x-python",
   "name": "python",
   "nbconvert_exporter": "python",
   "pygments_lexer": "ipython3",
   "version": "3.9.7"
  }
 },
 "nbformat": 4,
 "nbformat_minor": 4
}
