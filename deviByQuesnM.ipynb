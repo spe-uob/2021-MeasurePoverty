{
 "cells": [
  {
   "cell_type": "code",
   "execution_count": 1,
   "id": "4604c849",
   "metadata": {
    "scrolled": false
   },
   "outputs": [
    {
     "name": "stdout",
     "output_type": "stream",
     "text": [
      "[4, 5, 9, 16, 20, 21, 27, 34, 35, 36, 38, 39, 40, 47, 50, 51, 54, 62, 63, 67, 82, 119, 193, 194, 195, 196, 199, 205, 219, 283, 290, 294, 304, 309, 314, 326, 335, 339]\n"
     ]
    },
    {
     "data": {
      "text/plain": [
       "'def translate_document(pages):\\n    pdf1 = pdfplumber.open(\"france.pdf\")\\n    translated_array = []\\n    pages = pages\\n    for number in pages:\\n        p1 = pdf1.pages[i]\\n        im = p1.to_image()\\n        text = p1.extract_text()\\n        lines = text.split(\"\\n\")\\n   \\n        newlines = []\\n        for x in lines:\\n            if x.strip():\\n                newlines.append(x)\\n                \\n            \\n        translated_array.append(translator(newlines))\\n    return translated_array\\ntranslate_document(pages)'"
      ]
     },
     "execution_count": 1,
     "metadata": {},
     "output_type": "execute_result"
    }
   ],
   "source": [
    "import pdfplumber\n",
    "import pandas as pd\n",
    "from deep_translator import GoogleTranslator\n",
    "import PyPDF2\n",
    "import re\n",
    "\n",
    "\n",
    "#def translator(lines):\n",
    "    #translated_array =[]\n",
    "    #for i in lines:\n",
    "        #to_translate = i\n",
    "        #translated = GoogleTranslator(source='auto', target='en').translate(i)\n",
    "        #translated_array.append(translated)\n",
    "   # return translated_array\n",
    "\n",
    "        \n",
    "        \n",
    "##update later to get read a file as an input and pass below:\n",
    "\n",
    "\n",
    "#open odf   \n",
    "pdf = pdfplumber.open(\"france.pdf\")\n",
    "\n",
    "#Translate keywords\n",
    "def keywords():\n",
    "    questions_to_keywords={\n",
    "    \"annual holiday\":\"Can your whole household afford to go for a week’s annual holiday, away from home?\",\n",
    "    \"meat, chicken, fish\":\"Can your household afford a meal with meat, chicken, fish(or vegetarian equivalent)?\",\n",
    "    \"unexpected required expense\": \"Can your household afford an unexpected required expense(amount to be filled) and pay through its own resources?\",\n",
    "    \"telephone(fixed landline or mobile\":\"Does your household have a telephone(fixed landline or mobile)?\",\n",
    "    \"colour television\":\"Does your household have a color TV?\",\n",
    "    \"washing machine\":\"Does the household have a washing machine? \",\n",
    "    \"car/van\":\"Does your household have a car/van for private use? \",\n",
    "    \"dwelling/accommodation\":\"Do you have any of the following problems with your dwelling/accommodation? \",\n",
    "    \"home adequately warm\":\"Can your household afford to keep its home adequately warm?  \"\n",
    "} \n",
    "    \n",
    "    translated_keywords = []\n",
    "    for key in questions_to_keywords.keys():\n",
    "        translated = GoogleTranslator(source='en', target='french').translate(key)\n",
    "        translated_keywords.append(translated)\n",
    "    return (translated_keywords)\n",
    "\n",
    "\n",
    "\n",
    "for key in keywords():\n",
    "    pages = []\n",
    "    pdf= PyPDF2.PdfFileReader(r\"france.pdf\")\n",
    "    String = key\n",
    "    for i in range(0, pdf.getNumPages()):\n",
    "        PageObj = pdf.getPage(i)\n",
    "        Text = PageObj.extractText()\n",
    "        if re.search(\"question\",Text):\n",
    "            pages.append(i)\n",
    "print(pages)\n",
    "\n"
   ]
  },
  {
   "cell_type": "code",
   "execution_count": 4,
   "id": "57aa2b09",
   "metadata": {
    "scrolled": true
   },
   "outputs": [
    {
     "ename": "AttributeError",
     "evalue": "'PageObject' object has no attribute 'extract_text'",
     "output_type": "error",
     "traceback": [
      "\u001b[0;31m---------------------------------------------------------------------------\u001b[0m",
      "\u001b[0;31mAttributeError\u001b[0m                            Traceback (most recent call last)",
      "\u001b[0;32m/var/folders/fn/qk82czzs25vdb0pcdmk4t3280000gn/T/ipykernel_1570/1153090347.py\u001b[0m in \u001b[0;36m<module>\u001b[0;34m\u001b[0m\n\u001b[1;32m     22\u001b[0m \u001b[0;34m\u001b[0m\u001b[0m\n\u001b[1;32m     23\u001b[0m \u001b[0;32mfor\u001b[0m \u001b[0mi\u001b[0m \u001b[0;32min\u001b[0m \u001b[0mpages\u001b[0m\u001b[0;34m:\u001b[0m\u001b[0;34m\u001b[0m\u001b[0;34m\u001b[0m\u001b[0m\n\u001b[0;32m---> 24\u001b[0;31m     \u001b[0mkey_q_pages\u001b[0m\u001b[0;34m(\u001b[0m\u001b[0mi\u001b[0m\u001b[0;34m)\u001b[0m\u001b[0;34m\u001b[0m\u001b[0;34m\u001b[0m\u001b[0m\n\u001b[0m\u001b[1;32m     25\u001b[0m \u001b[0;34m\u001b[0m\u001b[0m\n\u001b[1;32m     26\u001b[0m \u001b[0;34m\u001b[0m\u001b[0m\n",
      "\u001b[0;32m/var/folders/fn/qk82czzs25vdb0pcdmk4t3280000gn/T/ipykernel_1570/1153090347.py\u001b[0m in \u001b[0;36mkey_q_pages\u001b[0;34m(i)\u001b[0m\n\u001b[1;32m     11\u001b[0m \u001b[0;32mdef\u001b[0m \u001b[0mkey_q_pages\u001b[0m\u001b[0;34m(\u001b[0m\u001b[0mi\u001b[0m\u001b[0;34m)\u001b[0m\u001b[0;34m:\u001b[0m\u001b[0;34m\u001b[0m\u001b[0;34m\u001b[0m\u001b[0m\n\u001b[1;32m     12\u001b[0m     \u001b[0mp1\u001b[0m \u001b[0;34m=\u001b[0m \u001b[0mpdf\u001b[0m\u001b[0;34m.\u001b[0m\u001b[0mpages\u001b[0m\u001b[0;34m[\u001b[0m\u001b[0mi\u001b[0m\u001b[0;34m]\u001b[0m\u001b[0;34m\u001b[0m\u001b[0;34m\u001b[0m\u001b[0m\n\u001b[0;32m---> 13\u001b[0;31m     \u001b[0mtext\u001b[0m \u001b[0;34m=\u001b[0m \u001b[0mp1\u001b[0m\u001b[0;34m.\u001b[0m\u001b[0mextract_text\u001b[0m\u001b[0;34m(\u001b[0m\u001b[0;34m)\u001b[0m\u001b[0;34m\u001b[0m\u001b[0;34m\u001b[0m\u001b[0m\n\u001b[0m\u001b[1;32m     14\u001b[0m     \u001b[0mlines\u001b[0m \u001b[0;34m=\u001b[0m \u001b[0mtext\u001b[0m\u001b[0;34m.\u001b[0m\u001b[0msplit\u001b[0m\u001b[0;34m(\u001b[0m\u001b[0;34m\"\\n\"\u001b[0m\u001b[0;34m)\u001b[0m\u001b[0;34m\u001b[0m\u001b[0;34m\u001b[0m\u001b[0m\n\u001b[1;32m     15\u001b[0m \u001b[0;34m\u001b[0m\u001b[0m\n",
      "\u001b[0;31mAttributeError\u001b[0m: 'PageObject' object has no attribute 'extract_text'"
     ]
    }
   ],
   "source": [
    "#def translator(a):\n",
    "   # for i in newlines:\n",
    "       # to_translate = i\n",
    "        #translated = GoogleTranslator(source='auto', target='en').translate(i)\n",
    "       # print(translated)\n",
    "#pdf = pdfplumber.open(\"france.pdf\")\n",
    "#print(len(pdf.pages))\n",
    "\n",
    "france=[]\n",
    "\n",
    "def key_q_pages(i):\n",
    "    p1 = pdf.pages[i]\n",
    "    text = p1.extract_text()\n",
    "    lines = text.split(\"\\n\")\n",
    "   \n",
    "    newlines = []\n",
    "    for x in lines:\n",
    "        if x.strip():\n",
    "            newlines.append(x)\n",
    "    france.append(newlines)\n",
    "\n",
    "    \n",
    "for i in pages:\n",
    "    key_q_pages(i)\n",
    "    \n",
    "    \n",
    "#colums:pages, rows:lines\n",
    "dffrance = pd.DataFrame(france)\n",
    "dffrance\n",
    "\n",
    "\n",
    "    \n",
    "\n",
    "\n",
    "\n",
    "\n",
    "      \n",
    "\n",
    "    "
   ]
  },
  {
   "cell_type": "code",
   "execution_count": 3,
   "id": "3658e28e",
   "metadata": {},
   "outputs": [
    {
     "ename": "FileNotFoundError",
     "evalue": "[Errno 2] No such file or directory: 'exampleValues'",
     "output_type": "error",
     "traceback": [
      "\u001b[0;31m---------------------------------------------------------------------------\u001b[0m",
      "\u001b[0;31mFileNotFoundError\u001b[0m                         Traceback (most recent call last)",
      "\u001b[0;32m/var/folders/fn/qk82czzs25vdb0pcdmk4t3280000gn/T/ipykernel_2676/2011806340.py\u001b[0m in \u001b[0;36m<module>\u001b[0;34m\u001b[0m\n\u001b[1;32m     25\u001b[0m       \u001b[0mfw\u001b[0m\u001b[0;34m.\u001b[0m\u001b[0mwrite\u001b[0m\u001b[0;34m(\u001b[0m\u001b[0mresult_string\u001b[0m\u001b[0;34m)\u001b[0m\u001b[0;34m\u001b[0m\u001b[0;34m\u001b[0m\u001b[0m\n\u001b[1;32m     26\u001b[0m \u001b[0;34m\u001b[0m\u001b[0m\n\u001b[0;32m---> 27\u001b[0;31m \u001b[0mmy_function\u001b[0m\u001b[0;34m(\u001b[0m\u001b[0;34m)\u001b[0m\u001b[0;34m\u001b[0m\u001b[0;34m\u001b[0m\u001b[0m\n\u001b[0m\u001b[1;32m     28\u001b[0m \u001b[0;34m\u001b[0m\u001b[0m\n\u001b[1;32m     29\u001b[0m \u001b[0;34m\u001b[0m\u001b[0m\n",
      "\u001b[0;32m/var/folders/fn/qk82czzs25vdb0pcdmk4t3280000gn/T/ipykernel_2676/2011806340.py\u001b[0m in \u001b[0;36mmy_function\u001b[0;34m()\u001b[0m\n\u001b[1;32m      1\u001b[0m \u001b[0;31m#ouput keyword sentence\u001b[0m\u001b[0;34m\u001b[0m\u001b[0;34m\u001b[0m\u001b[0m\n\u001b[1;32m      2\u001b[0m \u001b[0;32mdef\u001b[0m \u001b[0mmy_function\u001b[0m\u001b[0;34m(\u001b[0m\u001b[0;34m)\u001b[0m\u001b[0;34m:\u001b[0m\u001b[0;34m\u001b[0m\u001b[0;34m\u001b[0m\u001b[0m\n\u001b[0;32m----> 3\u001b[0;31m     \u001b[0;32mwith\u001b[0m \u001b[0mopen\u001b[0m\u001b[0;34m(\u001b[0m\u001b[0;34m\"exampleValues\"\u001b[0m\u001b[0;34m,\u001b[0m\u001b[0;34m'r'\u001b[0m\u001b[0;34m)\u001b[0m \u001b[0;32mas\u001b[0m \u001b[0mf\u001b[0m\u001b[0;34m,\u001b[0m \u001b[0mopen\u001b[0m\u001b[0;34m(\u001b[0m\u001b[0;34m'output.txt'\u001b[0m\u001b[0;34m,\u001b[0m\u001b[0;34m'w'\u001b[0m\u001b[0;34m)\u001b[0m \u001b[0;32mas\u001b[0m \u001b[0mfw\u001b[0m\u001b[0;34m:\u001b[0m\u001b[0;34m\u001b[0m\u001b[0;34m\u001b[0m\u001b[0m\n\u001b[0m\u001b[1;32m      4\u001b[0m \u001b[0;34m\u001b[0m\u001b[0m\n\u001b[1;32m      5\u001b[0m \u001b[0;34m\u001b[0m\u001b[0m\n",
      "\u001b[0;31mFileNotFoundError\u001b[0m: [Errno 2] No such file or directory: 'exampleValues'"
     ]
    }
   ],
   "source": [
    "#ouput keyword sentence\n",
    "def my_function():\n",
    "    with open(\"exampleValues\",'r') as f, open('output.txt','w') as fw:\n",
    "    \n",
    "\n",
    "\n",
    "  \n",
    "      text = f.read()\n",
    "      result_string = ''\n",
    "\n",
    "      words = [\"makan\", \"Rina\", \"mahal\"]\n",
    "      text2 = text.split(\".\")\n",
    "      for itemIndex in range(len(text2)):\n",
    "          for word in words:\n",
    "              if word in text2[itemIndex]:\n",
    "                  if text2[itemIndex][0] ==' ':\n",
    "                      print(text2[itemIndex][1:])\n",
    "                      result_string += text2[itemIndex][1:]+'. '\n",
    "                      break\n",
    "                  else:\n",
    "                      print(text2[itemIndex])\n",
    "                      result_string += text2[itemIndex]\n",
    "                      break\n",
    "      print(result_string)\n",
    "      fw.write(result_string)\n",
    "\n",
    "my_function()\n",
    "\n",
    "\n"
   ]
  },
  {
   "cell_type": "code",
   "execution_count": null,
   "id": "c7329ed2",
   "metadata": {},
   "outputs": [],
   "source": [
    "questions = text.split('?')\n",
    "for question in questions :\n",
    "     for word in words :\n",
    "           if word in sentence :\n",
    "                print (sentence)"
   ]
  }
 ],
 "metadata": {
  "kernelspec": {
   "display_name": "Python [conda env:pdfextractor]",
   "language": "python",
   "name": "conda-env-pdfextractor-py"
  },
  "language_info": {
   "codemirror_mode": {
    "name": "ipython",
    "version": 3
   },
   "file_extension": ".py",
   "mimetype": "text/x-python",
   "name": "python",
   "nbconvert_exporter": "python",
   "pygments_lexer": "ipython3",
   "version": "3.9.7"
  }
 },
 "nbformat": 4,
 "nbformat_minor": 5
}
